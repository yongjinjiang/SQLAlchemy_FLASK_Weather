{
 "cells": [
  {
   "cell_type": "code",
   "execution_count": 123,
   "metadata": {},
   "outputs": [],
   "source": [
    "%matplotlib inline\n",
    "from matplotlib import style\n",
    "style.use('fivethirtyeight')\n",
    "import matplotlib.pyplot as plt"
   ]
  },
  {
   "cell_type": "code",
   "execution_count": 124,
   "metadata": {},
   "outputs": [],
   "source": [
    "import numpy as np\n",
    "import pandas as pd"
   ]
  },
  {
   "cell_type": "code",
   "execution_count": 125,
   "metadata": {},
   "outputs": [],
   "source": [
    "import datetime as dt"
   ]
  },
  {
   "cell_type": "markdown",
   "metadata": {},
   "source": [
    "# Reflect Tables into SQLAlchemy ORM"
   ]
  },
  {
   "cell_type": "code",
   "execution_count": 126,
   "metadata": {},
   "outputs": [],
   "source": [
    "# Python SQL toolkit and Object Relational Mapper\n",
    "import sqlalchemy\n",
    "from sqlalchemy.ext.automap import automap_base\n",
    "from sqlalchemy.orm import Session\n",
    "from sqlalchemy import create_engine, func, inspect"
   ]
  },
  {
   "cell_type": "code",
   "execution_count": 127,
   "metadata": {},
   "outputs": [],
   "source": [
    "engine = create_engine(\"sqlite:///Resources/hawaii.sqlite\")"
   ]
  },
  {
   "cell_type": "code",
   "execution_count": 128,
   "metadata": {},
   "outputs": [
    {
     "data": {
      "text/plain": [
       "['measurement', 'station']"
      ]
     },
     "execution_count": 128,
     "metadata": {},
     "output_type": "execute_result"
    },
    {
     "name": "stdout",
     "output_type": "stream",
     "text": [
      "id INTEGER\n",
      "station TEXT\n",
      "date TEXT\n",
      "prcp FLOAT\n",
      "tobs FLOAT\n",
      "----------------------------------------------------------------------\n",
      "id INTEGER\n",
      "station TEXT\n",
      "name TEXT\n",
      "latitude FLOAT\n",
      "longitude FLOAT\n",
      "elevation FLOAT\n"
     ]
    }
   ],
   "source": [
    "inspector = inspect(engine)\n",
    "inspector.get_table_names()\n",
    "columns = inspector.get_columns('measurement')\n",
    "for column in columns:\n",
    "    print(column[\"name\"], column[\"type\"])\n",
    "columns = inspector.get_columns('station')\n",
    "print('-'*70)\n",
    "for column in columns:\n",
    "    print(column[\"name\"], column[\"type\"])"
   ]
  },
  {
   "cell_type": "code",
   "execution_count": 129,
   "metadata": {},
   "outputs": [],
   "source": [
    "# reflect an existing database into a new model\n",
    "Base = automap_base()\n",
    "# reflect the tables\n",
    "Base.prepare(engine, reflect=True)"
   ]
  },
  {
   "cell_type": "code",
   "execution_count": 130,
   "metadata": {},
   "outputs": [
    {
     "data": {
      "text/plain": [
       "['measurement', 'station']"
      ]
     },
     "execution_count": 130,
     "metadata": {},
     "output_type": "execute_result"
    }
   ],
   "source": [
    "# We can view all of the classes that automap found\n",
    "Base.classes.keys()"
   ]
  },
  {
   "cell_type": "code",
   "execution_count": 131,
   "metadata": {},
   "outputs": [],
   "source": [
    "# Save references to each table\n",
    "Measurement = Base.classes.measurement\n",
    "Station = Base.classes.station"
   ]
  },
  {
   "cell_type": "code",
   "execution_count": 132,
   "metadata": {},
   "outputs": [
    {
     "data": {
      "text/plain": [
       "'2017-08-23'"
      ]
     },
     "execution_count": 132,
     "metadata": {},
     "output_type": "execute_result"
    },
    {
     "data": {
      "text/plain": [
       "'2017-08-23'"
      ]
     },
     "execution_count": 132,
     "metadata": {},
     "output_type": "execute_result"
    },
    {
     "data": {
      "text/plain": [
       "'2017-08-30'"
      ]
     },
     "execution_count": 132,
     "metadata": {},
     "output_type": "execute_result"
    }
   ],
   "source": [
    "# Create our session (link) from Python to the DB\n",
    "from sqlalchemy import desc\n",
    "session = Session(engine)\n",
    "last_date_dataset=session.query(Measurement.date).order_by(desc(Measurement.date)).all()[0][0]\n",
    "last_date_dataset\n",
    "##my planned trip:\n",
    "start_date='2017-08-23'\n",
    "end_date='2017-08-30'\n",
    "start_date\n",
    "end_date"
   ]
  },
  {
   "cell_type": "code",
   "execution_count": 133,
   "metadata": {},
   "outputs": [],
   "source": [
    "from flask import Flask, jsonify\n",
    "results=session.query(Station.station,Station.name).all()"
   ]
  },
  {
   "cell_type": "code",
   "execution_count": 134,
   "metadata": {},
   "outputs": [
    {
     "data": {
      "text/plain": [
       "'2017-08-23'"
      ]
     },
     "execution_count": 134,
     "metadata": {},
     "output_type": "execute_result"
    },
    {
     "data": {
      "text/plain": [
       "'2016-08-23'"
      ]
     },
     "execution_count": 134,
     "metadata": {},
     "output_type": "execute_result"
    }
   ],
   "source": [
    "# Design a query to retrieve the last 12 months of precipitation data and plot the results\n",
    "#prcp_last12M=session.query(Measurement.station,Measurement.date,Measurement.prcp).filter(Measurement.date.between('2016-10-24',start_date)).all();\n",
    "\n",
    "# Calculate the date 1 year ago from today\n",
    "from dateutil.relativedelta import relativedelta\n",
    "#we assume the current time is lats date in the dataset.\n",
    "#If we choose now, there is no data in the past 12 months\n",
    "current_time= (dt.datetime.strptime(last_date_dataset, '%Y-%m-%d')).strftime(\"%Y-%m-%d\")\n",
    "One_yrs_ago=(dt.datetime.strptime(last_date_dataset, '%Y-%m-%d')\\\n",
    "             - relativedelta(years=1)).strftime(\"%Y-%m-%d\")\n",
    "current_time\n",
    "One_yrs_ago\n",
    "\n",
    "\n",
    "# Perform a query to retrieve the data and precipitation scores\n",
    "prcp_last12M=session.query(Measurement.date,Measurement.prcp).filter(Measurement.date.between(One_yrs_ago,current_time)).all();\n",
    "\n",
    "\n",
    "# Save the query results as a Pandas DataFrame and set the index to the date column\n",
    "prcp_last12M_df=pd.DataFrame(prcp_last12M)\n",
    "# Sort the dataframe by date\n",
    "prcp_last12M_df['date'] =pd.to_datetime(prcp_last12M_df['date'])\n",
    "prcp_last12M_df.sort_values(by='date',inplace=True)\n",
    "prcp_last12M_groupby=prcp_last12M_df.groupby('date').sum()"
   ]
  },
  {
   "cell_type": "code",
   "execution_count": 135,
   "metadata": {},
   "outputs": [
    {
     "data": {
      "image/png": "[encoded data removed]",
      "text/plain": [
       "<Figure size 720x720 with 1 Axes>"
      ]
     },
     "metadata": {},
     "output_type": "display_data"
    }
   ],
   "source": [
    "# Use Pandas Plotting with Matplotlib to plot the data\n",
    "#%matplotlib notebook\n",
    "ax=prcp_last12M_groupby.plot(kind='bar',figsize=(10,10),xticks=None,rot=90,use_index=True);\n",
    "#https://stackoverflow.com/questions/20416609/remove-the-x-axis-ticks-while-keeping-the-grids-matplotlib\n",
    "# ax.set_xticks(x_date, minor=True)\n",
    "# ax.xaxis.grid(True, which='minor')\n",
    "ax.grid(True)\n",
    "#set_xdata(x_date)\n",
    "_=ax.set_xticklabels([]);\n",
    "_=ax.legend(['precipitation'],loc='upper center',fontsize=20);\n",
    "_=plt.xlabel('data', fontsize=20);\n",
    "for tick in ax.yaxis.get_major_ticks():\n",
    "                tick.label.set_fontsize(20) ;\n",
    "# Rotate the xticks for the dates\n",
    "#we  shall not use the dates for xticks because there are too many and the tick-labels will become messy"
   ]
  },
  {
   "cell_type": "markdown",
   "metadata": {},
   "source": [
    "# Exploratory Climate Analysis"
   ]
  },
  {
   "cell_type": "code",
   "execution_count": 15,
   "metadata": {},
   "outputs": [
    {
     "data": {
      "text/plain": [
       "array(['2016-08-23T00:00:00.000000000', '2016-09-22T00:00:00.000000000',\n",
       "       '2016-10-22T00:00:00.000000000', '2016-11-21T00:00:00.000000000',\n",
       "       '2016-12-21T00:00:00.000000000', '2017-01-20T00:00:00.000000000',\n",
       "       '2017-02-19T00:00:00.000000000', '2017-03-21T00:00:00.000000000',\n",
       "       '2017-04-20T00:00:00.000000000', '2017-05-20T00:00:00.000000000',\n",
       "       '2017-06-19T00:00:00.000000000', '2017-07-19T00:00:00.000000000',\n",
       "       '2017-08-18T00:00:00.000000000'], dtype='datetime64[ns]')"
      ]
     },
     "execution_count": 15,
     "metadata": {},
     "output_type": "execute_result"
    }
   ],
   "source": [
    "x_date=prcp_last12M_groupby.index.values[0:len(prcp_last12M_groupby.index.values):30]\n",
    "x_date"
   ]
  },
  {
   "cell_type": "code",
   "execution_count": null,
   "metadata": {},
   "outputs": [],
   "source": [
    "\n",
    "    "
   ]
  },
  {
   "cell_type": "code",
   "execution_count": 120,
   "metadata": {},
   "outputs": [
    {
     "data": {
      "text/html": [
       "<div>\n",
       "<style scoped>\n",
       "    .dataframe tbody tr th:only-of-type {\n",
       "        vertical-align: middle;\n",
       "    }\n",
       "\n",
       "    .dataframe tbody tr th {\n",
       "        vertical-align: top;\n",
       "    }\n",
       "\n",
       "    .dataframe thead th {\n",
       "        text-align: right;\n",
       "    }\n",
       "</style>\n",
       "<table border=\"1\" class=\"dataframe\">\n",
       "  <thead>\n",
       "    <tr style=\"text-align: right;\">\n",
       "      <th></th>\n",
       "      <th>prcp</th>\n",
       "    </tr>\n",
       "  </thead>\n",
       "  <tbody>\n",
       "    <tr>\n",
       "      <th>count</th>\n",
       "      <td>366.000000</td>\n",
       "    </tr>\n",
       "    <tr>\n",
       "      <th>mean</th>\n",
       "      <td>0.978907</td>\n",
       "    </tr>\n",
       "    <tr>\n",
       "      <th>std</th>\n",
       "      <td>1.776349</td>\n",
       "    </tr>\n",
       "    <tr>\n",
       "      <th>min</th>\n",
       "      <td>0.000000</td>\n",
       "    </tr>\n",
       "    <tr>\n",
       "      <th>25%</th>\n",
       "      <td>0.052500</td>\n",
       "    </tr>\n",
       "    <tr>\n",
       "      <th>50%</th>\n",
       "      <td>0.405000</td>\n",
       "    </tr>\n",
       "    <tr>\n",
       "      <th>75%</th>\n",
       "      <td>1.087500</td>\n",
       "    </tr>\n",
       "    <tr>\n",
       "      <th>max</th>\n",
       "      <td>14.280000</td>\n",
       "    </tr>\n",
       "  </tbody>\n",
       "</table>\n",
       "</div>"
      ],
      "text/plain": [
       "             prcp\n",
       "count  366.000000\n",
       "mean     0.978907\n",
       "std      1.776349\n",
       "min      0.000000\n",
       "25%      0.052500\n",
       "50%      0.405000\n",
       "75%      1.087500\n",
       "max     14.280000"
      ]
     },
     "execution_count": 120,
     "metadata": {},
     "output_type": "execute_result"
    }
   ],
   "source": [
    "# Use Pandas to calcualte the summary statistics for the precipitation data\n",
    "prcp_last12M_groupby.describe()"
   ]
  },
  {
   "cell_type": "code",
   "execution_count": 18,
   "metadata": {},
   "outputs": [
    {
     "data": {
      "text/plain": [
       "7"
      ]
     },
     "execution_count": 18,
     "metadata": {},
     "output_type": "execute_result"
    },
    {
     "data": {
      "text/plain": [
       "7"
      ]
     },
     "execution_count": 18,
     "metadata": {},
     "output_type": "execute_result"
    }
   ],
   "source": [
    "# How many stations are available in this dataset?\n",
    "#method 1:\n",
    "station_last12M=session.query(Measurement.station,Measurement.prcp).filter(Measurement.date.between(One_yrs_ago,current_time)).all();\n",
    "station_last12M_df=pd.DataFrame(station_last12M)\n",
    "len(station_last12M_df.groupby('station').count())\n",
    "#method 2:\n",
    "aa=session.query(Measurement.station,func.count(Measurement.prcp)).filter(Measurement.date.between(One_yrs_ago,current_time)).group_by(Measurement.station)\n",
    "aa=aa.order_by(func.count(Measurement.prcp).desc()).all()\n",
    "len(aa)"
   ]
  },
  {
   "cell_type": "code",
   "execution_count": 19,
   "metadata": {},
   "outputs": [
    {
     "name": "stdout",
     "output_type": "stream",
     "text": [
      "the most active three stations are:['USC00519397', 'USC00519281', 'USC00513117']\n"
     ]
    },
    {
     "data": {
      "text/plain": [
       "[('USC00519397', 359),\n",
       " ('USC00519281', 352),\n",
       " ('USC00513117', 343),\n",
       " ('USC00516128', 328),\n",
       " ('USC00519523', 314),\n",
       " ('USC00514830', 265),\n",
       " ('USC00517948', 60)]"
      ]
     },
     "execution_count": 19,
     "metadata": {},
     "output_type": "execute_result"
    }
   ],
   "source": [
    "### What are the most active stations?\n",
    "print(f\"the most active three stations are:{[aa[i][0] for i in range(3)]}\")\n",
    "# List the stations and the counts in descending order.\n",
    "aa"
   ]
  },
  {
   "cell_type": "code",
   "execution_count": 22,
   "metadata": {},
   "outputs": [
    {
     "name": "stdout",
     "output_type": "stream",
     "text": [
      "the lowest temperature recorded for the three most active stations are:\n"
     ]
    },
    {
     "data": {
      "text/plain": [
       "[('USC00519397', 60.0), ('USC00519281', 59.0), ('USC00513117', 61.0)]"
      ]
     },
     "execution_count": 22,
     "metadata": {},
     "output_type": "execute_result"
    },
    {
     "name": "stdout",
     "output_type": "stream",
     "text": [
      "the hightest temperature recorded for the three most active stations are:\n"
     ]
    },
    {
     "data": {
      "text/plain": [
       "[('USC00519397', 87.0), ('USC00519281', 83.0), ('USC00513117', 82.0)]"
      ]
     },
     "execution_count": 22,
     "metadata": {},
     "output_type": "execute_result"
    },
    {
     "name": "stdout",
     "output_type": "stream",
     "text": [
      "the average temperature recorded for the three most active stations are:\n"
     ]
    },
    {
     "data": {
      "text/plain": [
       "[('USC00519397', 75.21), ('USC00519281', 73.11), ('USC00513117', 73.28)]"
      ]
     },
     "execution_count": 22,
     "metadata": {},
     "output_type": "execute_result"
    }
   ],
   "source": [
    "# Using the station id from the previous query, calculate the lowest temperature recorded,\n",
    "print(\"the lowest temperature recorded for the three most active stations are:\")\n",
    "session.query(Measurement.station,func.min(Measurement.tobs)).\\\n",
    "filter(Measurement.date.between(One_yrs_ago,current_time)).\\\n",
    "group_by(Measurement.station).\\\n",
    "order_by(func.count(Measurement.prcp).desc()).limit(3).all()\n",
    "\n",
    "# highest temperature recorded, and average temperature most active station?\n",
    "print(\"the hightest temperature recorded for the three most active stations are:\")\n",
    "session.query(Measurement.station,func.max(Measurement.tobs)).\\\n",
    "filter(Measurement.date.between(One_yrs_ago,current_time)).\\\n",
    "group_by(Measurement.station).\\\n",
    "order_by(func.count(Measurement.prcp).desc()).limit(3).all()\n",
    "\n",
    "# highest temperature recorded, and average temperature most active station?\n",
    "print(\"the average temperature recorded for the three most active stations are:\")\n",
    "aa=session.query(Measurement.station,func.avg(Measurement.tobs)).\\\n",
    "filter(Measurement.date.between(One_yrs_ago,current_time)).\\\n",
    "group_by(Measurement.station).\\\n",
    "order_by(func.count(Measurement.prcp).desc()).limit(3).all()\n",
    "aa=[(aa[i][0],round(aa[i][1],2)) for i in range(len(aa))]\n",
    "aa "
   ]
  },
  {
   "cell_type": "code",
   "execution_count": 23,
   "metadata": {},
   "outputs": [
    {
     "data": {
      "text/plain": [
       "[('USC00519397', 75.21), ('USC00519281', 73.11), ('USC00513117', 73.28)]"
      ]
     },
     "execution_count": 23,
     "metadata": {},
     "output_type": "execute_result"
    }
   ],
   "source": [
    "aa=[(aa[i][0],round(aa[i][1],2)) for i in range(len(aa))]\n",
    "aa                                         "
   ]
  },
  {
   "cell_type": "code",
   "execution_count": 24,
   "metadata": {},
   "outputs": [
    {
     "data": {
      "image/png": "[encoded data removed]",
      "text/plain": [
       "<Figure size 720x432 with 1 Axes>"
      ]
     },
     "metadata": {},
     "output_type": "display_data"
    }
   ],
   "source": [
    "# Choose the station with the highest number of temperature observations.\n",
    "aa=session.query(Measurement.station,func.count(Measurement.tobs)).\\\n",
    "filter(Measurement.date.between(One_yrs_ago,current_time)).\\\n",
    "group_by(Measurement.station).\\\n",
    "order_by(func.count(Measurement.tobs).desc()).first()\n",
    "aa\n",
    "# Query the last 12 months of temperature observation data for this station and plot the results as a histogram\n",
    "aa[0]\n",
    "\n",
    "bb=pd.DataFrame(session.query(Measurement.station,Measurement.date,Measurement.tobs).\\\n",
    "filter(Measurement.date.between(One_yrs_ago,current_time)).\\\n",
    "filter_by(station=aa[0]).all())\n",
    "bb.tobs.unique()\n",
    "#order_by(func.count(Measurement.tobs).desc()).first()\n",
    "fig=plt.figure(figsize=(10,6));\n",
    "n, bins, patches=plt.hist(bb.tobs,13,facecolor='green', alpha=0.75);\n",
    "plt.ylabel(\"Frequency\",fontsize=20);\n",
    "plt.legend(['tobs'],loc='upper center',fontsize=20);\n"
   ]
  },
  {
   "cell_type": "code",
   "execution_count": 25,
   "metadata": {},
   "outputs": [
    {
     "name": "stdout",
     "output_type": "stream",
     "text": [
      "[(62.0, 69.57142857142857, 74.0)]\n"
     ]
    }
   ],
   "source": [
    "# Write a function called `calc_temps` that will accept start date and end date in the format '%Y-%m-%d' \n",
    "# and return the minimum, average, and maximum temperatures for that range of dates\n",
    "def calc_temps(start_date, end_date):\n",
    "    \"\"\"TMIN, TAVG, and TMAX for a list of dates.\n",
    "    \n",
    "    Args:\n",
    "        start_date (string): A date string in the format %Y-%m-%d\n",
    "        end_date (string): A date string in the format %Y-%m-%d\n",
    "        \n",
    "    Returns:\n",
    "        TMIN, TAVE, and TMAX\n",
    "    \"\"\"\n",
    "    \n",
    "    return session.query(func.min(Measurement.tobs), func.avg(Measurement.tobs), func.max(Measurement.tobs)).\\\n",
    "        filter(Measurement.date >= start_date).filter(Measurement.date <= end_date).all()\n",
    "print(calc_temps('2012-02-28', '2012-03-05'))"
   ]
  },
  {
   "cell_type": "code",
   "execution_count": 119,
   "metadata": {},
   "outputs": [
    {
     "name": "stdout",
     "output_type": "stream",
     "text": [
      "The (min,average,max) temperature  during the last year's same dates as my planned trip_dates from 2017-08-23 to 2017-08-30: \n",
      " (76.0, 80.25, 82.0)\n"
     ]
    }
   ],
   "source": [
    "# Use your previous function `calc_temps` to calculate the tmin, tavg, and tmax \n",
    "# for your trip using the previous year's data for those same dates.\n",
    "\n",
    "print(f\"The (min,average,max) temperature  during the last year's same dates as my planned trip_dates from {start_date} to {end_date}: \\n {calc_temps(start_date, end_date)[0]}\")\n"
   ]
  },
  {
   "cell_type": "code",
   "execution_count": 27,
   "metadata": {},
   "outputs": [
    {
     "name": "stdout",
     "output_type": "stream",
     "text": [
      "Whcih, plotted in a bar char to visualize, is as follows,\n"
     ]
    },
    {
     "data": {
      "image/png": "[encoded data removed]",
      "text/plain": [
       "<Figure size 432x288 with 1 Axes>"
      ]
     },
     "metadata": {},
     "output_type": "display_data"
    }
   ],
   "source": [
    "# Plot the results from your previous query as a bar chart. \n",
    "# Use \"Trip Avg Temp\" as your Title\n",
    "# Use the average temperature for the y value\n",
    "# Use the peak-to-peak (tmax-tmin) value as the y error bar (yerr)\n",
    "print(\"Whcih, plotted in a bar char to visualize, is as follows,\")\n",
    "aa=calc_temps(start_date, end_date)[0];\n",
    "plt.bar(1, aa[1], yerr=aa[2]-aa[0],width=0.8,color='orange');\n",
    "plt.xlim((0, 2));\n",
    "plt.xticks(np.arange(0, 2, step=1));\n",
    "plt.yticks([20,40,60,80]);\n",
    "plt.ylabel('Temp(F)');"
   ]
  },
  {
   "cell_type": "code",
   "execution_count": 34,
   "metadata": {},
   "outputs": [
    {
     "name": "stdout",
     "output_type": "stream",
     "text": [
      "USC00516128 MANOA LYON ARBO 785.2, HI US 21.3331 -157.8025 152.4 0.45\n",
      "USC00519523 WAIMANALO EXPERIMENTAL FARM, HI US 21.33556 -157.71139 19.5 0.08\n",
      "USC00514830 KUALOA RANCH HEADQUARTERS 886.9, HI US 21.5213 -157.8374 7.0 0.0\n",
      "USC00519397 WAIKIKI 717.2, HI US 21.2716 -157.8168 3.0 0.0\n"
     ]
    }
   ],
   "source": [
    "# Calculate the rainfall per weather station for your trip dates using the previous year's matching dates.\n",
    "# Sort this in descending order by precipitation amount and list the station, name, latitude, longitude, and elevation\n",
    "aa=session.query(Measurement,Station,func.sum(Measurement.prcp)).\\\n",
    "filter(Measurement.date.between(start_date,end_date)).\\\n",
    "filter(Measurement.station==Station.station).\\\n",
    "group_by(Measurement.station).\\\n",
    "order_by(func.sum(Measurement.prcp).desc()).all()\n",
    "for row in aa:\n",
    "    print(row[0].station,row[1].name,row[1].latitude,row[1].longitude,row[1].elevation,row[2])"
   ]
  },
  {
   "cell_type": "code",
   "execution_count": 33,
   "metadata": {},
   "outputs": [
    {
     "data": {
      "text/plain": [
       "'2017-08-23'"
      ]
     },
     "execution_count": 33,
     "metadata": {},
     "output_type": "execute_result"
    },
    {
     "data": {
      "text/plain": [
       "'2017-08-30'"
      ]
     },
     "execution_count": 33,
     "metadata": {},
     "output_type": "execute_result"
    }
   ],
   "source": [
    "start_date\n",
    "end_date"
   ]
  },
  {
   "cell_type": "code",
   "execution_count": 35,
   "metadata": {},
   "outputs": [
    {
     "name": "stdout",
     "output_type": "stream",
     "text": [
      "USC00516128 MANOA LYON ARBO 785.2, HI US 21.3331 -157.8025 152.4 0.45\n",
      "USC00519523 WAIMANALO EXPERIMENTAL FARM, HI US 21.33556 -157.71139 19.5 0.08\n",
      "USC00514830 KUALOA RANCH HEADQUARTERS 886.9, HI US 21.5213 -157.8374 7.0 0.0\n",
      "USC00519397 WAIKIKI 717.2, HI US 21.2716 -157.8168 3.0 0.0\n"
     ]
    }
   ],
   "source": [
    "# Calculate the rainfall per weather station for your trip dates using the previous year's matching dates.\n",
    "# Sort this in descending order by precipitation amount and list the station, name, latitude, longitude, and elevation\n",
    "\n",
    "aa=session.query(Measurement,Station,func.sum(Measurement.prcp)).\\\n",
    "filter(Measurement.date.between(start_date,end_date)).\\\n",
    "filter(Measurement.station==Station.station).\\\n",
    "group_by(Measurement.station).\\\n",
    "order_by(func.sum(Measurement.prcp).desc()).all()\n",
    "for row in aa:\n",
    "    print(row[0].station,row[1].name,row[1].latitude,row[1].longitude,row[1].elevation,row[2])"
   ]
  },
  {
   "cell_type": "code",
   "execution_count": null,
   "metadata": {},
   "outputs": [],
   "source": [
    "columns = inspector.get_columns('Station')\n",
    "print('-'*70)\n",
    "for column in columns:\n",
    "    print(column[\"name\"], column[\"type\"])\n",
    "session.query(Station.station,Station.name,Station.latitude, Station.longitude, Station.elevation).all()"
   ]
  },
  {
   "cell_type": "markdown",
   "metadata": {},
   "source": [
    "## Optional Challenge Assignment"
   ]
  },
  {
   "cell_type": "code",
   "execution_count": 36,
   "metadata": {},
   "outputs": [
    {
     "data": {
      "text/plain": [
       "[(62.0, 69.15384615384616, 77.0)]"
      ]
     },
     "execution_count": 36,
     "metadata": {},
     "output_type": "execute_result"
    }
   ],
   "source": [
    "# Create a query that will calculate the daily normals \n",
    "# (i.e. the averages for tmin, tmax, and tavg for all historic data matching a specific month and day)\n",
    "\n",
    "def daily_normals(date):\n",
    "    \"\"\"Daily Normals.\n",
    "    \n",
    "    Args:\n",
    "        date (str): A date string in the format '%m-%d'\n",
    "        \n",
    "    Returns:\n",
    "        A list of tuples containing the daily normals, tmin, tavg, and tmax\n",
    "    \n",
    "    \"\"\"\n",
    "    \n",
    "    sel = [func.min(Measurement.tobs), func.avg(Measurement.tobs), func.max(Measurement.tobs)]\n",
    "    return session.query(*sel).filter(func.strftime(\"%m-%d\", Measurement.date) == date).all()\n",
    "    \n",
    "    \n",
    "daily_normals(\"01-01\")\n",
    "\n"
   ]
  },
  {
   "cell_type": "code",
   "execution_count": 116,
   "metadata": {},
   "outputs": [
    {
     "data": {
      "text/plain": [
       "'2017-08-23'"
      ]
     },
     "execution_count": 116,
     "metadata": {},
     "output_type": "execute_result"
    },
    {
     "data": {
      "text/plain": [
       "'2017-08-30'"
      ]
     },
     "execution_count": 116,
     "metadata": {},
     "output_type": "execute_result"
    }
   ],
   "source": [
    "start_date\n",
    "end_date\n",
    "# mydates = pd.date_range(start_date, end_date).tolist()\n",
    "# mydates=[mydates[i].strftime('%m-%d') for i in range(len(mydates))]\n",
    "# mydates"
   ]
  },
  {
   "cell_type": "code",
   "execution_count": 54,
   "metadata": {},
   "outputs": [
    {
     "data": {
      "text/plain": [
       "[(67.0, 76.6923076923077, 87.0),\n",
       " (70.0, 75.96153846153847, 84.0),\n",
       " (69.0, 76.96078431372548, 82.0),\n",
       " (71.0, 76.56862745098039, 84.0),\n",
       " (68.0, 76.28301886792453, 84.0),\n",
       " (67.0, 76.73469387755102, 86.0),\n",
       " (70.0, 76.23529411764706, 85.0),\n",
       " (68.0, 76.41666666666667, 84.0)]"
      ]
     },
     "execution_count": 54,
     "metadata": {},
     "output_type": "execute_result"
    }
   ],
   "source": [
    "# calculate the daily normals for your trip\n",
    "# push each tuple of calculations into a list called `normals`\n",
    "    \n",
    "# Set the start and end date of the trip\n",
    "start_date\n",
    "end_date\n",
    "# Use the start and end date to create a range of dates\n",
    "mydates = pd.date_range(start_date, end_date).tolist()\n",
    "# Stip off the year and save a list of %m-%d strings\n",
    "mydates=[mydates[i].strftime('%m-%d') for i in range(len(mydates))]\n",
    "\n",
    "# Loop through the list of %m-%d strings and calculate the normals for each date\n",
    "normals=[]\n",
    "for date in mydates:  \n",
    "    normals.append(daily_normals(date)[0])\n",
    "normals\n"
   ]
  },
  {
   "cell_type": "code",
   "execution_count": 67,
   "metadata": {},
   "outputs": [
    {
     "data": {
      "text/plain": [
       "['08-23', '08-24', '08-25', '08-26', '08-27', '08-28', '08-29', '08-30']"
      ]
     },
     "execution_count": 67,
     "metadata": {},
     "output_type": "execute_result"
    },
    {
     "data": {
      "text/html": [
       "<div>\n",
       "<style scoped>\n",
       "    .dataframe tbody tr th:only-of-type {\n",
       "        vertical-align: middle;\n",
       "    }\n",
       "\n",
       "    .dataframe tbody tr th {\n",
       "        vertical-align: top;\n",
       "    }\n",
       "\n",
       "    .dataframe thead th {\n",
       "        text-align: right;\n",
       "    }\n",
       "</style>\n",
       "<table border=\"1\" class=\"dataframe\">\n",
       "  <thead>\n",
       "    <tr style=\"text-align: right;\">\n",
       "      <th></th>\n",
       "      <th>min</th>\n",
       "      <th>avg</th>\n",
       "      <th>max</th>\n",
       "    </tr>\n",
       "  </thead>\n",
       "  <tbody>\n",
       "    <tr>\n",
       "      <th>08-23</th>\n",
       "      <td>67.0</td>\n",
       "      <td>76.692308</td>\n",
       "      <td>87.0</td>\n",
       "    </tr>\n",
       "    <tr>\n",
       "      <th>08-24</th>\n",
       "      <td>70.0</td>\n",
       "      <td>75.961538</td>\n",
       "      <td>84.0</td>\n",
       "    </tr>\n",
       "    <tr>\n",
       "      <th>08-25</th>\n",
       "      <td>69.0</td>\n",
       "      <td>76.960784</td>\n",
       "      <td>82.0</td>\n",
       "    </tr>\n",
       "    <tr>\n",
       "      <th>08-26</th>\n",
       "      <td>71.0</td>\n",
       "      <td>76.568627</td>\n",
       "      <td>84.0</td>\n",
       "    </tr>\n",
       "    <tr>\n",
       "      <th>08-27</th>\n",
       "      <td>68.0</td>\n",
       "      <td>76.283019</td>\n",
       "      <td>84.0</td>\n",
       "    </tr>\n",
       "    <tr>\n",
       "      <th>08-28</th>\n",
       "      <td>67.0</td>\n",
       "      <td>76.734694</td>\n",
       "      <td>86.0</td>\n",
       "    </tr>\n",
       "    <tr>\n",
       "      <th>08-29</th>\n",
       "      <td>70.0</td>\n",
       "      <td>76.235294</td>\n",
       "      <td>85.0</td>\n",
       "    </tr>\n",
       "    <tr>\n",
       "      <th>08-30</th>\n",
       "      <td>68.0</td>\n",
       "      <td>76.416667</td>\n",
       "      <td>84.0</td>\n",
       "    </tr>\n",
       "  </tbody>\n",
       "</table>\n",
       "</div>"
      ],
      "text/plain": [
       "        min        avg   max\n",
       "08-23  67.0  76.692308  87.0\n",
       "08-24  70.0  75.961538  84.0\n",
       "08-25  69.0  76.960784  82.0\n",
       "08-26  71.0  76.568627  84.0\n",
       "08-27  68.0  76.283019  84.0\n",
       "08-28  67.0  76.734694  86.0\n",
       "08-29  70.0  76.235294  85.0\n",
       "08-30  68.0  76.416667  84.0"
      ]
     },
     "execution_count": 67,
     "metadata": {},
     "output_type": "execute_result"
    }
   ],
   "source": [
    "# Load the previous query results into a Pandas DataFrame and add the `trip_dates` range as the `date` index\n",
    "mydates\n",
    "temp_df=pd.DataFrame([list(normals[i]) for i in range(len(normals))],\\\n",
    "             index=mydates,columns=['min','avg','max'])\n",
    "temp_df"
   ]
  },
  {
   "cell_type": "code",
   "execution_count": null,
   "metadata": {},
   "outputs": [],
   "source": [
    "\n"
   ]
  },
  {
   "cell_type": "code",
   "execution_count": 115,
   "metadata": {},
   "outputs": [
    {
     "data": {
      "image/png": "[encoded data removed]",
      "text/plain": [
       "<Figure size 576x576 with 1 Axes>"
      ]
     },
     "metadata": {},
     "output_type": "display_data"
    }
   ],
   "source": [
    "ax=temp_df.plot.area(stacked=False,figsize=(8,8),grid =True);\n",
    "\n",
    "fig_size = plt.rcParams[\"figure.figsize\"]\n",
    "plt.xlabel('date');\n",
    "locs, labels = plt.xticks();\n",
    "plt.xticks(locs[1:len(locs)-1], mydates,rotation=45);\n"
   ]
  },
  {
   "cell_type": "code",
   "execution_count": null,
   "metadata": {},
   "outputs": [],
   "source": []
  }
 ],
 "metadata": {
  "kernel_info": {
   "name": "python3"
  },
  "kernelspec": {
   "display_name": "Python [default]",
   "language": "python",
   "name": "python3"
  },
  "language_info": {
   "codemirror_mode": {
    "name": "ipython",
    "version": 3
   },
   "file_extension": ".py",
   "mimetype": "text/x-python",
   "name": "python",
   "nbconvert_exporter": "python",
   "pygments_lexer": "ipython3",
   "version": "3.6.5"
  },
  "nteract": {
   "version": "0.9.1"
  },
  "varInspector": {
   "cols": {
    "lenName": 16,
    "lenType": 16,
    "lenVar": 40
   },
   "kernels_config": {
    "python": {
     "delete_cmd_postfix": "",
     "delete_cmd_prefix": "del ",
     "library": "var_list.py",
     "varRefreshCmd": "print(var_dic_list())"
    },
    "r": {
     "delete_cmd_postfix": ") ",
     "delete_cmd_prefix": "rm(",
     "library": "var_list.r",
     "varRefreshCmd": "cat(var_dic_list()) "
    }
   },
   "types_to_exclude": [
    "module",
    "function",
    "builtin_function_or_method",
    "instance",
    "_Feature"
   ],
   "window_display": false
  }
 },
 "nbformat": 4,
 "nbformat_minor": 2
}
